{
    "cells": [
     {
      "cell_type": "markdown",
      "metadata": {},
      "source": [
       "# Introdução ao Pandas: Series e DataFrames"
      ]
     },
     {
      "cell_type": "code",
      "execution_count": 5,
      "metadata": {},
      "outputs": [],
      "source": [
       "# Importando as bibliotecas necessárias\n",
       "import pandas as pd\n",
       "import numpy as np\n",
       "import matplotlib.pyplot as plt"
      ]
     },
     {
      "cell_type": "code",
      "execution_count": 6,
      "metadata": {},
      "outputs": [],
      "source": [
       "\n",
       "# Configuração para exibir mais colunas\n",
       "pd.set_option('display.max_columns', None)\n"
      ]
     },
     {
      "cell_type": "code",
      "execution_count": 7,
      "metadata": {},
      "outputs": [
       {
        "name": "stdout",
        "output_type": "stream",
        "text": [
         "1. Trabalhando com Series\n",
         "--------------------------------------------------\n",
         "Series criada a partir de uma lista:\n",
         "0    10\n",
         "1    20\n",
         "2    30\n",
         "3    40\n",
         "4    50\n",
         "dtype: int64\n",
         "\n"
        ]
       }
      ],
      "source": [
       "\n",
       "# 1. Series - estrutura unidimensional semelhante a um array ou lista\n",
       "print(\"1. Trabalhando com Series\")\n",
       "print(\"-\" * 50)\n",
       "\n",
       "# Criando uma Series a partir de uma lista\n",
       "lista = [10, 20, 30, 40, 50]\n",
       "s1 = pd.Series(lista)\n",
       "print(\"Series criada a partir de uma lista:\")\n",
       "print(s1)\n",
       "print()"
      ]
     },
     {
      "cell_type": "code",
      "execution_count": 8,
      "metadata": {},
      "outputs": [
       {
        "name": "stdout",
        "output_type": "stream",
        "text": [
         "Series com índices personalizados:\n",
         "a    10\n",
         "b    20\n",
         "c    30\n",
         "d    40\n",
         "e    50\n",
         "dtype: int64\n",
         "\n"
        ]
       }
      ],
      "source": [
       "\n",
       "# Criando uma Series com índices personalizados\n",
       "s2 = pd.Series([10, 20, 30, 40, 50], index=['a', 'b', 'c', 'd', 'e'])\n",
       "print(\"Series com índices personalizados:\")\n",
       "print(s2)\n",
       "print()\n"
      ]
     },
     {
      "cell_type": "code",
      "execution_count": 9,
      "metadata": {},
      "outputs": [
       {
        "name": "stdout",
        "output_type": "stream",
        "text": [
         "Series criada a partir de um dicionário:\n",
         "a    10\n",
         "b    20\n",
         "c    30\n",
         "d    40\n",
         "e    50\n",
         "dtype: int64\n",
         "\n"
        ]
       }
      ],
      "source": [
       "\n",
       "# Criando uma Series a partir de um dicionário\n",
       "dicionario = {'a': 10, 'b': 20, 'c': 30, 'd': 40, 'e': 50}\n",
       "s3 = pd.Series(dicionario)\n",
       "print(\"Series criada a partir de um dicionário:\")\n",
       "print(s3)\n",
       "print()\n"
      ]
     },
     {
      "cell_type": "code",
      "execution_count": 10,
      "metadata": {},
      "outputs": [
       {
        "name": "stdout",
        "output_type": "stream",
        "text": [
         "Acessando elementos da Series:\n",
         "Elemento no índice 'a': 10\n",
         "Elementos nos índices 'a', 'c' e 'e': a    10\n",
         "c    30\n",
         "e    50\n",
         "dtype: int64\n",
         "\n"
        ]
       }
      ],
      "source": [
       "\n",
       "# Acessando elementos de uma Series\n",
       "print(\"Acessando elementos da Series:\")\n",
       "print(\"Elemento no índice 'a':\", s3['a'])\n",
       "print(\"Elementos nos índices 'a', 'c' e 'e':\", s3[['a', 'c', 'e']])\n",
       "print()\n"
      ]
     },
     {
      "cell_type": "code",
      "execution_count": 11,
      "metadata": {},
      "outputs": [
       {
        "name": "stdout",
        "output_type": "stream",
        "text": [
         "Operações com Series:\n",
         "s2 + 5:\n",
         "a    15\n",
         "b    25\n",
         "c    35\n",
         "d    45\n",
         "e    55\n",
         "dtype: int64\n",
         "\n",
         "s2 * 2:\n",
         "a     20\n",
         "b     40\n",
         "c     60\n",
         "d     80\n",
         "e    100\n",
         "dtype: int64\n",
         "\n"
        ]
       }
      ],
      "source": [
       "\n",
       "# Operações com Series\n",
       "print(\"Operações com Series:\")\n",
       "print(\"s2 + 5:\")\n",
       "print(s2 + 5)\n",
       "print(\"\\ns2 * 2:\")\n",
       "print(s2 * 2)\n",
       "print()\n"
      ]
     },
     {
      "cell_type": "code",
      "execution_count": 12,
      "metadata": {},
      "outputs": [
       {
        "name": "stdout",
        "output_type": "stream",
        "text": [
         "2. Trabalhando com DataFrames\n",
         "--------------------------------------------------\n"
        ]
       }
      ],
      "source": [
       "\n",
       "# 2. DataFrames - estrutura bidimensional semelhante a uma tabela\n",
       "print(\"2. Trabalhando com DataFrames\")\n",
       "print(\"-\" * 50)\n"
      ]
     },
     {
      "cell_type": "code",
      "execution_count": 13,
      "metadata": {},
      "outputs": [
       {
        "name": "stdout",
        "output_type": "stream",
        "text": [
         "DataFrame criado a partir de um dicionário:\n",
         "      Nome  Idade          Cidade  Salário\n",
         "0      Ana     25       São Paulo     5000\n",
         "1    Bruno     30  Rio de Janeiro     6000\n",
         "2   Carlos     35  Belo Horizonte     7000\n",
         "3  Daniela     40        Curitiba     8000\n",
         "4  Eduardo     45        Salvador     9000\n",
         "\n"
        ]
       }
      ],
      "source": [
       "\n",
       "# Criando um DataFrame a partir de um dicionário\n",
       "dados = {\n",
       "    'Nome': ['Ana', 'Bruno', 'Carlos', 'Daniela', 'Eduardo'],\n",
       "    'Idade': [25, 30, 35, 40, 45],\n",
       "    'Cidade': ['São Paulo', 'Rio de Janeiro', 'Belo Horizonte', 'Curitiba', 'Salvador'],\n",
       "    'Salário': [5000, 6000, 7000, 8000, 9000]\n",
       "}\n",
       "\n",
       "df1 = pd.DataFrame(dados)\n",
       "print(\"DataFrame criado a partir de um dicionário:\")\n",
       "print(df1)\n",
       "print()\n"
      ]
     },
     {
      "cell_type": "code",
      "execution_count": 29,
      "metadata": {},
      "outputs": [
       {
        "name": "stdout",
        "output_type": "stream",
        "text": [
         "Informações sobre o DataFrame:\n",
         "Shape (linhas, colunas): (5, 6)\n",
         "\n",
         "Tipos de dados:\n",
         "Nome             object\n",
         "Idade             int64\n",
         "Cidade           object\n",
         "Salário           int64\n",
         "Faixa Etária     object\n",
         "Bônus           float64\n",
         "dtype: object\n",
         "\n",
         "Primeiras 3 linhas:\n",
         "     Nome  Idade          Cidade  Salário Faixa Etária  Bônus\n",
         "0     Ana     25       São Paulo     5000        Jovem  500.0\n",
         "1   Bruno     30  Rio de Janeiro     6000       Adulto  600.0\n",
         "2  Carlos     35  Belo Horizonte     7000       Adulto  700.0\n",
         "\n",
         "Últimas 2 linhas:\n",
         "      Nome  Idade    Cidade  Salário Faixa Etária  Bônus\n",
         "3  Daniela     40  Curitiba     8000       Sênior  800.0\n",
         "4  Eduardo     45  Salvador     9000       Sênior  900.0\n",
         "\n",
         "Resumo estatístico das colunas numéricas:\n",
         "           Idade     Salário       Bônus\n",
         "count   5.000000     5.00000    5.000000\n",
         "mean   35.000000  7000.00000  700.000000\n",
         "std     7.905694  1581.13883  158.113883\n",
         "min    25.000000  5000.00000  500.000000\n",
         "25%    30.000000  6000.00000  600.000000\n",
         "50%    35.000000  7000.00000  700.000000\n",
         "75%    40.000000  8000.00000  800.000000\n",
         "max    45.000000  9000.00000  900.000000\n",
         "\n"
        ]
       }
      ],
      "source": [
       "\n",
       "# Informações sobre o DataFrame\n",
       "print(\"Informações sobre o DataFrame:\")\n",
       "print(\"Shape (linhas, colunas):\", df1.shape)\n",
       "print(\"\\nTipos de dados:\")\n",
       "print(df1.dtypes)\n",
       "print(\"\\nPrimeiras 3 linhas:\")\n",
       "print(df1.head(3))\n",
       "print(\"\\nÚltimas 2 linhas:\")\n",
       "print(df1.tail(2))\n",
       "print(\"\\nResumo estatístico das colunas numéricas:\")\n",
       "print(df1.describe())\n",
       "print()"
      ]
     },
     {
      "cell_type": "code",
      "execution_count": 15,
      "metadata": {},
      "outputs": [
       {
        "name": "stdout",
        "output_type": "stream",
        "text": [
         "Acessando dados do DataFrame:\n",
         "Coluna 'Nome':\n",
         "0        Ana\n",
         "1      Bruno\n",
         "2     Carlos\n",
         "3    Daniela\n",
         "4    Eduardo\n",
         "Name: Nome, dtype: object\n",
         "\n",
         "Colunas 'Nome' e 'Idade':\n",
         "      Nome  Idade\n",
         "0      Ana     25\n",
         "1    Bruno     30\n",
         "2   Carlos     35\n",
         "3  Daniela     40\n",
         "4  Eduardo     45\n",
         "\n",
         "Primeira linha:\n",
         "Nome             Ana\n",
         "Idade             25\n",
         "Cidade     São Paulo\n",
         "Salário         5000\n",
         "Name: 0, dtype: object\n",
         "\n",
         "Linhas 1 a 3:\n",
         "      Nome  Idade          Cidade  Salário\n",
         "1    Bruno     30  Rio de Janeiro     6000\n",
         "2   Carlos     35  Belo Horizonte     7000\n",
         "3  Daniela     40        Curitiba     8000\n",
         "\n",
         "Valor na linha 2, coluna 'Salário':\n",
         "7000\n",
         "\n"
        ]
       }
      ],
      "source": [
       "\n",
       "# Acessando dados do DataFrame\n",
       "print(\"Acessando dados do DataFrame:\")\n",
       "print(\"Coluna 'Nome':\")\n",
       "print(df1['Nome'])\n",
       "print(\"\\nColunas 'Nome' e 'Idade':\")\n",
       "print(df1[['Nome', 'Idade']])\n",
       "print(\"\\nPrimeira linha:\")\n",
       "print(df1.iloc[0])\n",
       "print(\"\\nLinhas 1 a 3:\")\n",
       "print(df1.iloc[1:4])\n",
       "print(\"\\nValor na linha 2, coluna 'Salário':\")\n",
       "print(df1.iloc[2, 3])  # ou df1.loc[2, 'Salário']\n",
       "print()\n"
      ]
     },
     {
      "cell_type": "code",
      "execution_count": 16,
      "metadata": {},
      "outputs": [
       {
        "name": "stdout",
        "output_type": "stream",
        "text": [
         "Filtragem de dados:\n",
         "Pessoas com idade maior que 30:\n",
         "      Nome  Idade          Cidade  Salário\n",
         "2   Carlos     35  Belo Horizonte     7000\n",
         "3  Daniela     40        Curitiba     8000\n",
         "4  Eduardo     45        Salvador     9000\n",
         "\n",
         "Pessoas de São Paulo ou Salvador:\n",
         "      Nome  Idade     Cidade  Salário\n",
         "0      Ana     25  São Paulo     5000\n",
         "4  Eduardo     45   Salvador     9000\n",
         "\n"
        ]
       }
      ],
      "source": [
       "\n",
       "# Filtragem de dados\n",
       "print(\"Filtragem de dados:\")\n",
       "print(\"Pessoas com idade maior que 30:\")\n",
       "print(df1[df1['Idade'] > 30])\n",
       "print(\"\\nPessoas de São Paulo ou Salvador:\")\n",
       "print(df1[df1['Cidade'].isin(['São Paulo', 'Salvador'])])\n",
       "print()\n"
      ]
     },
     {
      "cell_type": "code",
      "execution_count": 17,
      "metadata": {},
      "outputs": [
       {
        "name": "stdout",
        "output_type": "stream",
        "text": [
         "Criando novas colunas:\n",
         "      Nome  Idade          Cidade  Salário Faixa Etária  Bônus\n",
         "0      Ana     25       São Paulo     5000        Jovem  500.0\n",
         "1    Bruno     30  Rio de Janeiro     6000       Adulto  600.0\n",
         "2   Carlos     35  Belo Horizonte     7000       Adulto  700.0\n",
         "3  Daniela     40        Curitiba     8000       Sênior  800.0\n",
         "4  Eduardo     45        Salvador     9000       Sênior  900.0\n",
         "\n"
        ]
       }
      ],
      "source": [
       "\n",
       "# Criando novas colunas\n",
       "print(\"Criando novas colunas:\")\n",
       "df1['Faixa Etária'] = ['Jovem' if idade < 30 else 'Adulto' if idade < 40 else 'Sênior' for idade in df1['Idade']]\n",
       "df1['Bônus'] = df1['Salário'] * 0.1\n",
       "print(df1)\n",
       "print()\n"
      ]
     },
     {
      "cell_type": "code",
      "execution_count": 18,
      "metadata": {},
      "outputs": [
       {
        "name": "stdout",
        "output_type": "stream",
        "text": [
         "Agrupamento de dados:\n",
         "Média de salário por faixa etária:\n",
         "Faixa Etária\n",
         "Adulto    6500.0\n",
         "Jovem     5000.0\n",
         "Sênior    8500.0\n",
         "Name: Salário, dtype: float64\n",
         "\n",
         "Contagem por faixa etária:\n",
         "Faixa Etária\n",
         "Adulto    2\n",
         "Jovem     1\n",
         "Sênior    2\n",
         "dtype: int64\n",
         "\n"
        ]
       }
      ],
      "source": [
       "\n",
       "# Agrupamento de dados\n",
       "print(\"Agrupamento de dados:\")\n",
       "print(\"Média de salário por faixa etária:\")\n",
       "print(df1.groupby('Faixa Etária')['Salário'].mean())\n",
       "print(\"\\nContagem por faixa etária:\")\n",
       "print(df1.groupby('Faixa Etária').size())\n",
       "print()\n"
      ]
     },
     {
      "cell_type": "code",
      "execution_count": 28,
      "metadata": {},
      "outputs": [
       {
        "name": "stdout",
        "output_type": "stream",
        "text": [
         "3. Leitura e escrita de dados\n",
         "--------------------------------------------------\n",
         "DataFrame para demonstração de I/O:\n",
         "          A  B  C       date\n",
         "0  0.772856  4  a 2023-12-01\n",
         "1  0.654166  7  b 2022-12-20\n",
         "2  0.396229  0  c 2024-12-06\n",
         "3  0.564213  2  d 2021-03-14\n",
         "4  0.736083  4  e 2024-03-01\n",
         "\n"
        ]
       }
      ],
      "source": [
       "import datetime\n",
       "# 3. Leitura e escrita de dados\n",
       "print(\"3. Leitura e escrita de dados\")\n",
       "print(\"-\" * 50)\n",
       "\n",
       "def generate_random_date():\n",
       "    year = np.random.randint(2020, 2025)\n",
       "    month = np.random.randint(1, 13)\n",
       "    day = np.random.randint(1, 28)\n",
       "    return datetime.datetime(year, month, day)\n",
       "\n",
       "# Criando um DataFrame para salvar\n",
       "df_exemplo = pd.DataFrame({\n",
       "    'A': np.random.rand(5),\n",
       "    'B': np.random.randint(0, 10, 5),\n",
       "    'C': ['a', 'b', 'c', 'd', 'e'],\n",
       "    'date': [generate_random_date() for _ in range(5)]\n",
       "})\n",
       "\n",
       "print(\"DataFrame para demonstração de I/O:\")\n",
       "print(df_exemplo)\n",
       "print()\n"
      ]
     },
     {
      "cell_type": "code",
      "execution_count": 37,
      "metadata": {},
      "outputs": [],
      "source": [
       "df_exemplo.to_csv('exemplo.csv', index=False)"
      ]
     },
     {
      "cell_type": "code",
      "execution_count": 39,
      "metadata": {},
      "outputs": [
       {
        "name": "stdout",
        "output_type": "stream",
        "text": [
         "A,B,C,date\n",
         "0.7728558910382415,4,a,2023-12-01\n",
         "0.654166443327621,7,b,2022-12-20\n",
         "0.3962291550368823,0,c,2024-12-06\n",
         "0.5642132841803199,2,d,2021-03-14\n",
         "0.7360834341539654,4,e,2024-03-01\n",
         "\n"
        ]
       }
      ],
      "source": [
       "with open('exemplo.csv', 'r') as f:\n",
       "    csv = f.read()\n",
       "\n",
       "print(csv)\n"
      ]
     },
     {
      "cell_type": "code",
      "execution_count": 41,
      "metadata": {},
      "outputs": [
       {
        "data": {
         "text/html": [
          "<div>\n",
          "<style scoped>\n",
          "    .dataframe tbody tr th:only-of-type {\n",
          "        vertical-align: middle;\n",
          "    }\n",
          "\n",
          "    .dataframe tbody tr th {\n",
          "        vertical-align: top;\n",
          "    }\n",
          "\n",
          "    .dataframe thead th {\n",
          "        text-align: right;\n",
          "    }\n",
          "</style>\n",
          "<table border=\"1\" class=\"dataframe\">\n",
          "  <thead>\n",
          "    <tr style=\"text-align: right;\">\n",
          "      <th></th>\n",
          "      <th>A</th>\n",
          "      <th>B</th>\n",
          "      <th>C</th>\n",
          "      <th>date</th>\n",
          "    </tr>\n",
          "  </thead>\n",
          "  <tbody>\n",
          "    <tr>\n",
          "      <th>0</th>\n",
          "      <td>0.772856</td>\n",
          "      <td>4</td>\n",
          "      <td>a</td>\n",
          "      <td>2023-12-01</td>\n",
          "    </tr>\n",
          "    <tr>\n",
          "      <th>1</th>\n",
          "      <td>0.654166</td>\n",
          "      <td>7</td>\n",
          "      <td>b</td>\n",
          "      <td>2022-12-20</td>\n",
          "    </tr>\n",
          "    <tr>\n",
          "      <th>2</th>\n",
          "      <td>0.396229</td>\n",
          "      <td>0</td>\n",
          "      <td>c</td>\n",
          "      <td>2024-12-06</td>\n",
          "    </tr>\n",
          "    <tr>\n",
          "      <th>3</th>\n",
          "      <td>0.564213</td>\n",
          "      <td>2</td>\n",
          "      <td>d</td>\n",
          "      <td>2021-03-14</td>\n",
          "    </tr>\n",
          "    <tr>\n",
          "      <th>4</th>\n",
          "      <td>0.736083</td>\n",
          "      <td>4</td>\n",
          "      <td>e</td>\n",
          "      <td>2024-03-01</td>\n",
          "    </tr>\n",
          "  </tbody>\n",
          "</table>\n",
          "</div>"
         ],
         "text/plain": [
          "          A  B  C        date\n",
          "0  0.772856  4  a  2023-12-01\n",
          "1  0.654166  7  b  2022-12-20\n",
          "2  0.396229  0  c  2024-12-06\n",
          "3  0.564213  2  d  2021-03-14\n",
          "4  0.736083  4  e  2024-03-01"
         ]
        },
        "execution_count": 41,
        "metadata": {},
        "output_type": "execute_result"
       }
      ],
      "source": [
       "df_csv = pd.read_csv('exemplo.csv')\n",
       "df_csv"
      ]
     },
     {
      "cell_type": "code",
      "execution_count": 30,
      "metadata": {},
      "outputs": [
       {
        "name": "stdout",
        "output_type": "stream",
        "text": [
         "Exemplos de como salvar DataFrames (código comentado):\n",
         "# Salvar como CSV\n",
         "# df_exemplo.to_csv('exemplo.csv', index=False)\n",
         "\n",
         "# Salvar como Excel\n",
         "# df_exemplo.to_excel('exemplo.xlsx', index=False)\n",
         "\n",
         "# Salvar como JSON\n",
         "# df_exemplo.to_json('exemplo.json')\n",
         "\n",
         "Exemplos de como ler arquivos (código comentado):\n",
         "# Ler CSV\n",
         "# df_csv = pd.read_csv('exemplo.csv')\n",
         "\n",
         "# Ler Excel\n",
         "# df_excel = pd.read_excel('exemplo.xlsx')\n",
         "\n",
         "# Ler JSON\n",
         "# df_json = pd.read_json('exemplo.json')\n",
         "\n"
        ]
       }
      ],
      "source": [
       "\n",
       "# Salvando em diferentes formatos (comentado para não criar arquivos)\n",
       "print(\"Exemplos de como salvar DataFrames (código comentado):\")\n",
       "print(\"# Salvar como CSV\")\n",
       "print(\"# df_exemplo.to_csv('exemplo.csv', index=False)\")\n",
       "print(\"\\n# Salvar como Excel\")\n",
       "print(\"# df_exemplo.to_excel('exemplo.xlsx', index=False)\")\n",
       "print(\"\\n# Salvar como JSON\")\n",
       "print(\"# df_exemplo.to_json('exemplo.json')\")\n",
       "print()\n",
       "\n",
       "print(\"Exemplos de como ler arquivos (código comentado):\")\n",
       "print(\"# Ler CSV\")\n",
       "print(\"# df_csv = pd.read_csv('exemplo.csv')\")\n",
       "print(\"\\n# Ler Excel\")\n",
       "print(\"# df_excel = pd.read_excel('exemplo.xlsx')\")\n",
       "print(\"\\n# Ler JSON\")\n",
       "print(\"# df_json = pd.read_json('exemplo.json')\")\n",
       "print()\n"
      ]
     },
     {
      "cell_type": "code",
      "execution_count": 21,
      "metadata": {},
      "outputs": [
       {
        "name": "stdout",
        "output_type": "stream",
        "text": [
         "4. Visualização básica de dados\n",
         "--------------------------------------------------\n",
         "DataFrame para visualização:\n",
         "    x        y1         y2\n",
         "0   1  1.544025  10.729710\n",
         "1   2  5.516023   9.202172\n",
         "2   3  2.688972   8.032061\n",
         "3   4  5.866389  10.663508\n",
         "4   5  1.882757   7.153253\n",
         "5   6  6.918980   7.969320\n",
         "6   7  5.842245  11.017078\n",
         "7   8  6.644992  13.772786\n",
         "8   9  7.655290  10.082169\n",
         "9  10  6.455988   7.489087\n",
         "\n"
        ]
       }
      ],
      "source": [
       "\n",
       "# 4. Visualização básica de dados\n",
       "print(\"4. Visualização básica de dados\")\n",
       "print(\"-\" * 50)\n",
       "\n",
       "# Criando dados para visualização\n",
       "df_vis = pd.DataFrame({\n",
       "    'x': range(1, 11),\n",
       "    'y1': np.random.rand(10) * 10,\n",
       "    'y2': np.random.rand(10) * 10 + 5\n",
       "})\n",
       "\n",
       "print(\"DataFrame para visualização:\")\n",
       "print(df_vis)\n",
       "print()\n"
      ]
     },
     {
      "cell_type": "code",
      "execution_count": 42,
      "metadata": {},
      "outputs": [
       {
        "data": {
         "text/html": [
          "<div>\n",
          "<style scoped>\n",
          "    .dataframe tbody tr th:only-of-type {\n",
          "        vertical-align: middle;\n",
          "    }\n",
          "\n",
          "    .dataframe tbody tr th {\n",
          "        vertical-align: top;\n",
          "    }\n",
          "\n",
          "    .dataframe thead th {\n",
          "        text-align: right;\n",
          "    }\n",
          "</style>\n",
          "<table border=\"1\" class=\"dataframe\">\n",
          "  <thead>\n",
          "    <tr style=\"text-align: right;\">\n",
          "      <th></th>\n",
          "      <th>x</th>\n",
          "      <th>y1</th>\n",
          "      <th>y2</th>\n",
          "    </tr>\n",
          "  </thead>\n",
          "  <tbody>\n",
          "    <tr>\n",
          "      <th>0</th>\n",
          "      <td>1</td>\n",
          "      <td>1.544025</td>\n",
          "      <td>10.729710</td>\n",
          "    </tr>\n",
          "    <tr>\n",
          "      <th>1</th>\n",
          "      <td>2</td>\n",
          "      <td>5.516023</td>\n",
          "      <td>9.202172</td>\n",
          "    </tr>\n",
          "    <tr>\n",
          "      <th>2</th>\n",
          "      <td>3</td>\n",
          "      <td>2.688972</td>\n",
          "      <td>8.032061</td>\n",
          "    </tr>\n",
          "    <tr>\n",
          "      <th>3</th>\n",
          "      <td>4</td>\n",
          "      <td>5.866389</td>\n",
          "      <td>10.663508</td>\n",
          "    </tr>\n",
          "    <tr>\n",
          "      <th>4</th>\n",
          "      <td>5</td>\n",
          "      <td>1.882757</td>\n",
          "      <td>7.153253</td>\n",
          "    </tr>\n",
          "    <tr>\n",
          "      <th>5</th>\n",
          "      <td>6</td>\n",
          "      <td>6.918980</td>\n",
          "      <td>7.969320</td>\n",
          "    </tr>\n",
          "    <tr>\n",
          "      <th>6</th>\n",
          "      <td>7</td>\n",
          "      <td>5.842245</td>\n",
          "      <td>11.017078</td>\n",
          "    </tr>\n",
          "    <tr>\n",
          "      <th>7</th>\n",
          "      <td>8</td>\n",
          "      <td>6.644992</td>\n",
          "      <td>13.772786</td>\n",
          "    </tr>\n",
          "    <tr>\n",
          "      <th>8</th>\n",
          "      <td>9</td>\n",
          "      <td>7.655290</td>\n",
          "      <td>10.082169</td>\n",
          "    </tr>\n",
          "    <tr>\n",
          "      <th>9</th>\n",
          "      <td>10</td>\n",
          "      <td>6.455988</td>\n",
          "      <td>7.489087</td>\n",
          "    </tr>\n",
          "  </tbody>\n",
          "</table>\n",
          "</div>"
         ],
         "text/plain": [
          "    x        y1         y2\n",
          "0   1  1.544025  10.729710\n",
          "1   2  5.516023   9.202172\n",
          "2   3  2.688972   8.032061\n",
          "3   4  5.866389  10.663508\n",
          "4   5  1.882757   7.153253\n",
          "5   6  6.918980   7.969320\n",
          "6   7  5.842245  11.017078\n",
          "7   8  6.644992  13.772786\n",
          "8   9  7.655290  10.082169\n",
          "9  10  6.455988   7.489087"
         ]
        },
        "execution_count": 42,
        "metadata": {},
        "output_type": "execute_result"
       }
      ],
      "source": [
       "df_vis"
      ]
     },
     {
      "cell_type": "code",
      "execution_count": 22,
      "metadata": {},
      "outputs": [
       {
        "name": "stdout",
        "output_type": "stream",
        "text": [
         "Para visualizar os gráficos, execute as células abaixo:\n",
         "# Gráfico de linha\n",
         "plt.figure(figsize=(10, 6))\n",
         "plt.plot(df_vis['x'], df_vis['y1'], 'b-', label='Série 1')\n",
         "plt.plot(df_vis['x'], df_vis['y2'], 'r--', label='Série 2')\n",
         "plt.title('Gráfico de Linha Simples')\n",
         "plt.xlabel('Eixo X')\n",
         "plt.ylabel('Eixo Y')\n",
         "plt.legend()\n",
         "plt.grid(True)\n",
         "plt.show()\n",
         "\n",
         "# Gráfico de barras\n",
         "plt.figure(figsize=(10, 6))\n",
         "df1.plot(kind='bar', x='Nome', y='Salário')\n",
         "plt.title('Salários por Pessoa')\n",
         "plt.xlabel('Nome')\n",
         "plt.ylabel('Salário (R$)')\n",
         "plt.xticks(rotation=45)\n",
         "plt.tight_layout()\n",
         "plt.show()\n"
        ]
       }
      ],
      "source": [
       "\n",
       "print(\"Para visualizar os gráficos, execute as células abaixo:\")\n",
       "print(\"# Gráfico de linha\")\n",
       "print(\"plt.figure(figsize=(10, 6))\")\n",
       "print(\"plt.plot(df_vis['x'], df_vis['y1'], 'b-', label='Série 1')\")\n",
       "print(\"plt.plot(df_vis['x'], df_vis['y2'], 'r--', label='Série 2')\")\n",
       "print(\"plt.title('Gráfico de Linha Simples')\")\n",
       "print(\"plt.xlabel('Eixo X')\")\n",
       "print(\"plt.ylabel('Eixo Y')\")\n",
       "print(\"plt.legend()\")\n",
       "print(\"plt.grid(True)\")\n",
       "print(\"plt.show()\")\n",
       "print()\n",
       "\n",
       "print(\"# Gráfico de barras\")\n",
       "print(\"plt.figure(figsize=(10, 6))\")\n",
       "print(\"df1.plot(kind='bar', x='Nome', y='Salário')\")\n",
       "print(\"plt.title('Salários por Pessoa')\")\n",
       "print(\"plt.xlabel('Nome')\")\n",
       "print(\"plt.ylabel('Salário (R$)')\")\n",
       "print(\"plt.xticks(rotation=45)\")\n",
       "print(\"plt.tight_layout()\")\n",
       "print(\"plt.show()\")"
      ]
     },
     {
      "cell_type": "code",
      "execution_count": 43,
      "metadata": {},
      "outputs": [
       {
        "data": {
         "image/png": "[encoded data removed]",
         "text/plain": [
          "<Figure size 1000x600 with 1 Axes>"
         ]
        },
        "metadata": {},
        "output_type": "display_data"
       }
      ],
      "source": [
       "# Gráfico de linha\n",
       "plt.figure(figsize=(10, 6))\n",
       "plt.plot(df_vis['x'], df_vis['y1'], 'b-', label='Série 1')\n",
       "plt.plot(df_vis['x'], df_vis['y2'], 'r--', label='Série 2')\n",
       "plt.title('Gráfico de Linha Simples')\n",
       "plt.xlabel('Eixo X')\n",
       "plt.ylabel('Eixo Y')\n",
       "plt.legend()\n",
       "plt.grid(True)\n",
       "plt.show()\n"
      ]
     },
     {
      "cell_type": "code",
      "execution_count": 44,
      "metadata": {},
      "outputs": [
       {
        "data": {
         "text/plain": [
          "<Figure size 1000x600 with 0 Axes>"
         ]
        },
        "metadata": {},
        "output_type": "display_data"
       },
       {
        "data": {
         "image/png": "[encoded data removed]",
         "text/plain": [
          "<Figure size 640x480 with 1 Axes>"
         ]
        },
        "metadata": {},
        "output_type": "display_data"
       }
      ],
      "source": [
       "plt.figure(figsize=(10, 6))\n",
       "df1.plot(kind='bar', x='Nome', y='Salário')\n",
       "plt.title('Salários por Pessoa')\n",
       "plt.xlabel('Nome')\n",
       "plt.ylabel('Salário (R$)')\n",
       "plt.xticks(rotation=45)\n",
       "plt.tight_layout()\n",
       "plt.show()"
      ]
     },
     {
      "cell_type": "code",
      "execution_count": null,
      "metadata": {},
      "outputs": [],
      "source": []
     }
    ],
    "metadata": {
     "kernelspec": {
      "display_name": "Python 3",
      "language": "python",
      "name": "python3"
     },
     "language_info": {
      "codemirror_mode": {
       "name": "ipython",
       "version": 3
      },
      "file_extension": ".py",
      "mimetype": "text/x-python",
      "name": "python",
      "nbconvert_exporter": "python",
      "pygments_lexer": "ipython3",
      "version": "3.13.2"
     }
    },
    "nbformat": 4,
    "nbformat_minor": 2
   }
   